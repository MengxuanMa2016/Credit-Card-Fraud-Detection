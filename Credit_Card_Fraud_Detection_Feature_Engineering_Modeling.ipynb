{
  "nbformat": 4,
  "nbformat_minor": 0,
  "metadata": {
    "colab": {
      "name": "Credit_Card_Fraud_Detection-Feature_Engineering_Modeling.ipynb",
      "version": "0.3.2",
      "provenance": [],
      "include_colab_link": true
    },
    "kernelspec": {
      "name": "python3",
      "display_name": "Python 3"
    },
    "accelerator": "TPU"
  },
  "cells": [
    {
      "cell_type": "markdown",
      "metadata": {
        "id": "view-in-github",
        "colab_type": "text"
      },
      "source": [
        "<a href=\"https://colab.research.google.com/github/MengxuanMa2016/Credit-Card-Fraud-Detection/blob/master/Credit_Card_Fraud_Detection_Feature_Engineering_Modeling.ipynb\" target=\"_parent\"><img src=\"https://colab.research.google.com/assets/colab-badge.svg\" alt=\"Open In Colab\"/></a>"
      ]
    },
    {
      "cell_type": "markdown",
      "metadata": {
        "id": "f2MtxYMC_neU",
        "colab_type": "text"
      },
      "source": [
        "## Import libraries"
      ]
    },
    {
      "cell_type": "code",
      "metadata": {
        "id": "9YPQpp0D-ztg",
        "colab_type": "code",
        "colab": {
          "base_uri": "https://localhost:8080/",
          "height": 34
        },
        "outputId": "5a60b207-c0f4-42a9-f094-ebb59b57dab4"
      },
      "source": [
        "from keras.layers import Input, Dense\n",
        "from keras.models import Model, Sequential\n",
        "from keras import regularizers\n",
        "from sklearn.model_selection import train_test_split \n",
        "from sklearn.linear_model import LogisticRegression\n",
        "from sklearn.metrics import classification_report, accuracy_score\n",
        "from sklearn.manifold import TSNE\n",
        "from sklearn import preprocessing \n",
        "import matplotlib.pyplot as plt\n",
        "import pandas as pd \n",
        "import numpy as np\n",
        "import seaborn as sns\n",
        "sns.set(style=\"whitegrid\")\n",
        "np.random.seed(100)"
      ],
      "execution_count": 1,
      "outputs": [
        {
          "output_type": "stream",
          "text": [
            "Using TensorFlow backend.\n"
          ],
          "name": "stderr"
        }
      ]
    },
    {
      "cell_type": "markdown",
      "metadata": {
        "id": "vcOojv8-_sLF",
        "colab_type": "text"
      },
      "source": [
        "## Load the credit card dataset\n",
        "link:  https://data.world/vlad/credit-card-fraud-detection"
      ]
    },
    {
      "cell_type": "code",
      "metadata": {
        "id": "z4slyrID_2OK",
        "colab_type": "code",
        "outputId": "91860793-07f7-437c-a260-d3683ad0bd6a",
        "colab": {
          "base_uri": "https://localhost:8080/",
          "height": 54
        }
      },
      "source": [
        "from google.colab import drive\n",
        "drive.mount('/content/gdrive')"
      ],
      "execution_count": 2,
      "outputs": [
        {
          "output_type": "stream",
          "text": [
            "Drive already mounted at /content/gdrive; to attempt to forcibly remount, call drive.mount(\"/content/gdrive\", force_remount=True).\n"
          ],
          "name": "stdout"
        }
      ]
    },
    {
      "cell_type": "code",
      "metadata": {
        "id": "w0ANBPsT_6pe",
        "colab_type": "code",
        "outputId": "e4cfca96-5b54-432b-fd97-cd56bf9aaa5e",
        "colab": {
          "base_uri": "https://localhost:8080/",
          "height": 84
        }
      },
      "source": [
        "# list data files are available in the data directory.\n",
        "# For example, running this (by clicking run or pressing Shift+Enter) will list the files in the input directory\n",
        "\n",
        "path = \"/content/gdrive/My Drive/credit_card_fraud_detection/\"\n",
        "\n",
        "from subprocess import check_output\n",
        "print(check_output([\"ls\", path]).decode(\"utf8\"))\n",
        "\n",
        "# Any results you write to the current directory are saved as output."
      ],
      "execution_count": 3,
      "outputs": [
        {
          "output_type": "stream",
          "text": [
            "CC.csv\n",
            "Credit_Card_Fraud_Detection-Exploratory_Data_Analysis.ipynb\n",
            "Credit_Card_Fraud_Detection-Feature_Engineering_Modeling.ipynb\n",
            "\n"
          ],
          "name": "stdout"
        }
      ]
    },
    {
      "cell_type": "code",
      "metadata": {
        "id": "OUlezo_3_-hk",
        "colab_type": "code",
        "colab": {
          "base_uri": "https://localhost:8080/",
          "height": 215
        },
        "outputId": "b78b95f1-bf42-4ee8-ef04-42832ab15ef8"
      },
      "source": [
        "transactions = pd.read_csv(path + \"CC.csv\")\n",
        "\n",
        "# Time Feature is number of seconds elapsed between this transaction and the first transaction in the dataset\n",
        "# Normalized the tiem feature by days\n",
        "transactions[\"Time\"] = transactions[\"Time\"].apply(lambda x : x / 3600 % 24)\n",
        "transactions.head()"
      ],
      "execution_count": 4,
      "outputs": [
        {
          "output_type": "execute_result",
          "data": {
            "text/html": [
              "<div>\n",
              "<style scoped>\n",
              "    .dataframe tbody tr th:only-of-type {\n",
              "        vertical-align: middle;\n",
              "    }\n",
              "\n",
              "    .dataframe tbody tr th {\n",
              "        vertical-align: top;\n",
              "    }\n",
              "\n",
              "    .dataframe thead th {\n",
              "        text-align: right;\n",
              "    }\n",
              "</style>\n",
              "<table border=\"1\" class=\"dataframe\">\n",
              "  <thead>\n",
              "    <tr style=\"text-align: right;\">\n",
              "      <th></th>\n",
              "      <th>Time</th>\n",
              "      <th>V1</th>\n",
              "      <th>V2</th>\n",
              "      <th>V3</th>\n",
              "      <th>V4</th>\n",
              "      <th>V5</th>\n",
              "      <th>V6</th>\n",
              "      <th>V7</th>\n",
              "      <th>V8</th>\n",
              "      <th>V9</th>\n",
              "      <th>V10</th>\n",
              "      <th>V11</th>\n",
              "      <th>V12</th>\n",
              "      <th>V13</th>\n",
              "      <th>V14</th>\n",
              "      <th>V15</th>\n",
              "      <th>V16</th>\n",
              "      <th>V17</th>\n",
              "      <th>V18</th>\n",
              "      <th>V19</th>\n",
              "      <th>V20</th>\n",
              "      <th>V21</th>\n",
              "      <th>V22</th>\n",
              "      <th>V23</th>\n",
              "      <th>V24</th>\n",
              "      <th>V25</th>\n",
              "      <th>V26</th>\n",
              "      <th>V27</th>\n",
              "      <th>V28</th>\n",
              "      <th>Amount</th>\n",
              "      <th>Class</th>\n",
              "    </tr>\n",
              "  </thead>\n",
              "  <tbody>\n",
              "    <tr>\n",
              "      <th>0</th>\n",
              "      <td>0.000000</td>\n",
              "      <td>-1.359807</td>\n",
              "      <td>-0.072781</td>\n",
              "      <td>2.536347</td>\n",
              "      <td>1.378155</td>\n",
              "      <td>-0.338321</td>\n",
              "      <td>0.462388</td>\n",
              "      <td>0.239599</td>\n",
              "      <td>0.098698</td>\n",
              "      <td>0.363787</td>\n",
              "      <td>0.090794</td>\n",
              "      <td>-0.551600</td>\n",
              "      <td>-0.617801</td>\n",
              "      <td>-0.991390</td>\n",
              "      <td>-0.311169</td>\n",
              "      <td>1.468177</td>\n",
              "      <td>-0.470401</td>\n",
              "      <td>0.207971</td>\n",
              "      <td>0.025791</td>\n",
              "      <td>0.403993</td>\n",
              "      <td>0.251412</td>\n",
              "      <td>-0.018307</td>\n",
              "      <td>0.277838</td>\n",
              "      <td>-0.110474</td>\n",
              "      <td>0.066928</td>\n",
              "      <td>0.128539</td>\n",
              "      <td>-0.189115</td>\n",
              "      <td>0.133558</td>\n",
              "      <td>-0.021053</td>\n",
              "      <td>149.62</td>\n",
              "      <td>0</td>\n",
              "    </tr>\n",
              "    <tr>\n",
              "      <th>1</th>\n",
              "      <td>0.000000</td>\n",
              "      <td>1.191857</td>\n",
              "      <td>0.266151</td>\n",
              "      <td>0.166480</td>\n",
              "      <td>0.448154</td>\n",
              "      <td>0.060018</td>\n",
              "      <td>-0.082361</td>\n",
              "      <td>-0.078803</td>\n",
              "      <td>0.085102</td>\n",
              "      <td>-0.255425</td>\n",
              "      <td>-0.166974</td>\n",
              "      <td>1.612727</td>\n",
              "      <td>1.065235</td>\n",
              "      <td>0.489095</td>\n",
              "      <td>-0.143772</td>\n",
              "      <td>0.635558</td>\n",
              "      <td>0.463917</td>\n",
              "      <td>-0.114805</td>\n",
              "      <td>-0.183361</td>\n",
              "      <td>-0.145783</td>\n",
              "      <td>-0.069083</td>\n",
              "      <td>-0.225775</td>\n",
              "      <td>-0.638672</td>\n",
              "      <td>0.101288</td>\n",
              "      <td>-0.339846</td>\n",
              "      <td>0.167170</td>\n",
              "      <td>0.125895</td>\n",
              "      <td>-0.008983</td>\n",
              "      <td>0.014724</td>\n",
              "      <td>2.69</td>\n",
              "      <td>0</td>\n",
              "    </tr>\n",
              "    <tr>\n",
              "      <th>2</th>\n",
              "      <td>0.000278</td>\n",
              "      <td>-1.358354</td>\n",
              "      <td>-1.340163</td>\n",
              "      <td>1.773209</td>\n",
              "      <td>0.379780</td>\n",
              "      <td>-0.503198</td>\n",
              "      <td>1.800499</td>\n",
              "      <td>0.791461</td>\n",
              "      <td>0.247676</td>\n",
              "      <td>-1.514654</td>\n",
              "      <td>0.207643</td>\n",
              "      <td>0.624501</td>\n",
              "      <td>0.066084</td>\n",
              "      <td>0.717293</td>\n",
              "      <td>-0.165946</td>\n",
              "      <td>2.345865</td>\n",
              "      <td>-2.890083</td>\n",
              "      <td>1.109969</td>\n",
              "      <td>-0.121359</td>\n",
              "      <td>-2.261857</td>\n",
              "      <td>0.524980</td>\n",
              "      <td>0.247998</td>\n",
              "      <td>0.771679</td>\n",
              "      <td>0.909412</td>\n",
              "      <td>-0.689281</td>\n",
              "      <td>-0.327642</td>\n",
              "      <td>-0.139097</td>\n",
              "      <td>-0.055353</td>\n",
              "      <td>-0.059752</td>\n",
              "      <td>378.66</td>\n",
              "      <td>0</td>\n",
              "    </tr>\n",
              "    <tr>\n",
              "      <th>3</th>\n",
              "      <td>0.000278</td>\n",
              "      <td>-0.966272</td>\n",
              "      <td>-0.185226</td>\n",
              "      <td>1.792993</td>\n",
              "      <td>-0.863291</td>\n",
              "      <td>-0.010309</td>\n",
              "      <td>1.247203</td>\n",
              "      <td>0.237609</td>\n",
              "      <td>0.377436</td>\n",
              "      <td>-1.387024</td>\n",
              "      <td>-0.054952</td>\n",
              "      <td>-0.226487</td>\n",
              "      <td>0.178228</td>\n",
              "      <td>0.507757</td>\n",
              "      <td>-0.287924</td>\n",
              "      <td>-0.631418</td>\n",
              "      <td>-1.059647</td>\n",
              "      <td>-0.684093</td>\n",
              "      <td>1.965775</td>\n",
              "      <td>-1.232622</td>\n",
              "      <td>-0.208038</td>\n",
              "      <td>-0.108300</td>\n",
              "      <td>0.005274</td>\n",
              "      <td>-0.190321</td>\n",
              "      <td>-1.175575</td>\n",
              "      <td>0.647376</td>\n",
              "      <td>-0.221929</td>\n",
              "      <td>0.062723</td>\n",
              "      <td>0.061458</td>\n",
              "      <td>123.50</td>\n",
              "      <td>0</td>\n",
              "    </tr>\n",
              "    <tr>\n",
              "      <th>4</th>\n",
              "      <td>0.000556</td>\n",
              "      <td>-1.158233</td>\n",
              "      <td>0.877737</td>\n",
              "      <td>1.548718</td>\n",
              "      <td>0.403034</td>\n",
              "      <td>-0.407193</td>\n",
              "      <td>0.095921</td>\n",
              "      <td>0.592941</td>\n",
              "      <td>-0.270533</td>\n",
              "      <td>0.817739</td>\n",
              "      <td>0.753074</td>\n",
              "      <td>-0.822843</td>\n",
              "      <td>0.538196</td>\n",
              "      <td>1.345852</td>\n",
              "      <td>-1.119670</td>\n",
              "      <td>0.175121</td>\n",
              "      <td>-0.451449</td>\n",
              "      <td>-0.237033</td>\n",
              "      <td>-0.038195</td>\n",
              "      <td>0.803487</td>\n",
              "      <td>0.408542</td>\n",
              "      <td>-0.009431</td>\n",
              "      <td>0.798278</td>\n",
              "      <td>-0.137458</td>\n",
              "      <td>0.141267</td>\n",
              "      <td>-0.206010</td>\n",
              "      <td>0.502292</td>\n",
              "      <td>0.219422</td>\n",
              "      <td>0.215153</td>\n",
              "      <td>69.99</td>\n",
              "      <td>0</td>\n",
              "    </tr>\n",
              "  </tbody>\n",
              "</table>\n",
              "</div>"
            ],
            "text/plain": [
              "       Time        V1        V2        V3  ...       V27       V28  Amount  Class\n",
              "0  0.000000 -1.359807 -0.072781  2.536347  ...  0.133558 -0.021053  149.62      0\n",
              "1  0.000000  1.191857  0.266151  0.166480  ... -0.008983  0.014724    2.69      0\n",
              "2  0.000278 -1.358354 -1.340163  1.773209  ... -0.055353 -0.059752  378.66      0\n",
              "3  0.000278 -0.966272 -0.185226  1.792993  ...  0.062723  0.061458  123.50      0\n",
              "4  0.000556 -1.158233  0.877737  1.548718  ...  0.219422  0.215153   69.99      0\n",
              "\n",
              "[5 rows x 31 columns]"
            ]
          },
          "metadata": {
            "tags": []
          },
          "execution_count": 4
        }
      ]
    },
    {
      "cell_type": "code",
      "metadata": {
        "id": "RWJ7-Sc1EI4R",
        "colab_type": "code",
        "colab": {}
      },
      "source": [
        "non_fraud = transactions[transactions['Class'] == 0].sample(10000)\n",
        "fraud = transactions[transactions['Class'] == 1]\n",
        "\n",
        "df = non_fraud.append(fraud).sample(frac=1).reset_index(drop=True)\n",
        "features = df.drop(['Class'], axis = 1).values\n",
        "labels = df[\"Class\"].values"
      ],
      "execution_count": 0,
      "outputs": []
    },
    {
      "cell_type": "markdown",
      "metadata": {
        "id": "WU1MMRjLCqFI",
        "colab_type": "text"
      },
      "source": [
        "## Extract low-level represetation using an autoencoder network\n",
        "\n",
        "An autoencoder network is a neural network architectures in which the output is same as the input. Autoencoders can be used to learn the low level repersentations of the input data. \n",
        "\n",
        "An autoencoder model is created to learn the best representation of non-fraud cases. The same model will be used to generate the representations of fraud cases."
      ]
    },
    {
      "cell_type": "code",
      "metadata": {
        "id": "-AU5ws-sD29R",
        "colab_type": "code",
        "colab": {
          "base_uri": "https://localhost:8080/",
          "height": 154
        },
        "outputId": "b52c2985-d195-4bf6-d960-075e34413761"
      },
      "source": [
        "## input layer \n",
        "input_layer = Input(shape=(features.shape[1],))\n",
        "\n",
        "## encoding part\n",
        "encoded = Dense(100, activation='tanh', activity_regularizer=regularizers.l1(10e-5))(input_layer)\n",
        "encoded = Dense(50, activation='relu')(encoded)\n",
        "\n",
        "## decoding part\n",
        "decoded = Dense(50, activation='tanh')(encoded)\n",
        "decoded = Dense(100, activation='tanh')(decoded)\n",
        "\n",
        "## output layer\n",
        "output_layer = Dense(features.shape[1], activation='relu')(decoded)"
      ],
      "execution_count": 6,
      "outputs": [
        {
          "output_type": "stream",
          "text": [
            "WARNING: Logging before flag parsing goes to stderr.\n",
            "W0729 05:48:01.614233 139877501241216 deprecation_wrapper.py:119] From /usr/local/lib/python3.6/dist-packages/keras/backend/tensorflow_backend.py:74: The name tf.get_default_graph is deprecated. Please use tf.compat.v1.get_default_graph instead.\n",
            "\n",
            "W0729 05:48:01.637638 139877501241216 deprecation_wrapper.py:119] From /usr/local/lib/python3.6/dist-packages/keras/backend/tensorflow_backend.py:517: The name tf.placeholder is deprecated. Please use tf.compat.v1.placeholder instead.\n",
            "\n",
            "W0729 05:48:01.643641 139877501241216 deprecation_wrapper.py:119] From /usr/local/lib/python3.6/dist-packages/keras/backend/tensorflow_backend.py:4138: The name tf.random_uniform is deprecated. Please use tf.random.uniform instead.\n",
            "\n"
          ],
          "name": "stderr"
        }
      ]
    },
    {
      "cell_type": "code",
      "metadata": {
        "id": "1xbIhjgWEaGX",
        "colab_type": "code",
        "colab": {
          "base_uri": "https://localhost:8080/",
          "height": 70
        },
        "outputId": "401228fd-344c-45e6-c340-b755b572a351"
      },
      "source": [
        "autoencoder = Model(input_layer, output_layer)\n",
        "autoencoder.compile(optimizer=\"adadelta\", loss=\"mse\")"
      ],
      "execution_count": 7,
      "outputs": [
        {
          "output_type": "stream",
          "text": [
            "W0729 05:48:01.727899 139877501241216 deprecation_wrapper.py:119] From /usr/local/lib/python3.6/dist-packages/keras/optimizers.py:790: The name tf.train.Optimizer is deprecated. Please use tf.compat.v1.train.Optimizer instead.\n",
            "\n"
          ],
          "name": "stderr"
        }
      ]
    },
    {
      "cell_type": "code",
      "metadata": {
        "id": "Mv5kX9eUEqiD",
        "colab_type": "code",
        "colab": {
          "base_uri": "https://localhost:8080/",
          "height": 50
        },
        "outputId": "8f6f3ad9-1cdc-4b90-cb66-9946175da309"
      },
      "source": [
        "x = transactions.drop([\"Class\"], axis=1)\n",
        "y = transactions[\"Class\"].values\n",
        "\n",
        "x_scale = preprocessing.MinMaxScaler().fit_transform(x.values)\n",
        "x_norm, x_fraud = x_scale[y == 0], x_scale[y == 1]\n",
        "print(\"Total number of non-fraud transactions: \" + str(x_norm.shape[0]))\n",
        "print(\"Total number of fraud transactions: \" + str(x_fraud.shape[0]))"
      ],
      "execution_count": 8,
      "outputs": [
        {
          "output_type": "stream",
          "text": [
            "Total number of non-fraud transactions: 284315\n",
            "Total number of fraud transactions: 492\n"
          ],
          "name": "stdout"
        }
      ]
    },
    {
      "cell_type": "code",
      "metadata": {
        "id": "usGg0xRQFOOj",
        "colab_type": "code",
        "colab": {
          "base_uri": "https://localhost:8080/",
          "height": 1000
        },
        "outputId": "448501d5-e4c9-4d80-a4d5-73061e45a277"
      },
      "source": [
        "autoencoder.fit(x_norm[0:2000], x_norm[0:2000], \n",
        "                batch_size = 256, epochs = 100, \n",
        "                shuffle = True, validation_split = 0.20);"
      ],
      "execution_count": 9,
      "outputs": [
        {
          "output_type": "stream",
          "text": [
            "W0729 05:48:02.221134 139877501241216 deprecation_wrapper.py:119] From /usr/local/lib/python3.6/dist-packages/keras/backend/tensorflow_backend.py:986: The name tf.assign_add is deprecated. Please use tf.compat.v1.assign_add instead.\n",
            "\n",
            "W0729 05:48:02.229546 139877501241216 deprecation_wrapper.py:119] From /usr/local/lib/python3.6/dist-packages/keras/backend/tensorflow_backend.py:973: The name tf.assign is deprecated. Please use tf.compat.v1.assign instead.\n",
            "\n"
          ],
          "name": "stderr"
        },
        {
          "output_type": "stream",
          "text": [
            "Train on 1600 samples, validate on 400 samples\n",
            "Epoch 1/100\n",
            "1600/1600 [==============================] - 0s 194us/step - loss: 0.6914 - val_loss: 0.4275\n",
            "Epoch 2/100\n",
            "1600/1600 [==============================] - 0s 15us/step - loss: 0.3881 - val_loss: 0.2555\n",
            "Epoch 3/100\n",
            "1600/1600 [==============================] - 0s 15us/step - loss: 0.2456 - val_loss: 0.1833\n",
            "Epoch 4/100\n",
            "1600/1600 [==============================] - 0s 13us/step - loss: 0.1919 - val_loss: 0.1566\n",
            "Epoch 5/100\n",
            "1600/1600 [==============================] - 0s 14us/step - loss: 0.1675 - val_loss: 0.1750\n",
            "Epoch 6/100\n",
            "1600/1600 [==============================] - 0s 14us/step - loss: 0.1719 - val_loss: 0.1272\n",
            "Epoch 7/100\n",
            "1600/1600 [==============================] - 0s 15us/step - loss: 0.1339 - val_loss: 0.1234\n",
            "Epoch 8/100\n",
            "1600/1600 [==============================] - 0s 14us/step - loss: 0.1559 - val_loss: 0.1294\n",
            "Epoch 9/100\n",
            "1600/1600 [==============================] - 0s 14us/step - loss: 0.1381 - val_loss: 0.1160\n",
            "Epoch 10/100\n",
            "1600/1600 [==============================] - 0s 16us/step - loss: 0.1246 - val_loss: 0.1189\n",
            "Epoch 11/100\n",
            "1600/1600 [==============================] - 0s 15us/step - loss: 0.1364 - val_loss: 0.1117\n",
            "Epoch 12/100\n",
            "1600/1600 [==============================] - 0s 17us/step - loss: 0.1204 - val_loss: 0.1121\n",
            "Epoch 13/100\n",
            "1600/1600 [==============================] - 0s 16us/step - loss: 0.1275 - val_loss: 0.1092\n",
            "Epoch 14/100\n",
            "1600/1600 [==============================] - 0s 15us/step - loss: 0.1176 - val_loss: 0.1078\n",
            "Epoch 15/100\n",
            "1600/1600 [==============================] - 0s 15us/step - loss: 0.1184 - val_loss: 0.1081\n",
            "Epoch 16/100\n",
            "1600/1600 [==============================] - 0s 18us/step - loss: 0.1182 - val_loss: 0.1071\n",
            "Epoch 17/100\n",
            "1600/1600 [==============================] - 0s 15us/step - loss: 0.1163 - val_loss: 0.1069\n",
            "Epoch 18/100\n",
            "1600/1600 [==============================] - 0s 15us/step - loss: 0.1157 - val_loss: 0.1067\n",
            "Epoch 19/100\n",
            "1600/1600 [==============================] - 0s 15us/step - loss: 0.1157 - val_loss: 0.1064\n",
            "Epoch 20/100\n",
            "1600/1600 [==============================] - 0s 17us/step - loss: 0.1157 - val_loss: 0.1065\n",
            "Epoch 21/100\n",
            "1600/1600 [==============================] - 0s 14us/step - loss: 0.1163 - val_loss: 0.1067\n",
            "Epoch 22/100\n",
            "1600/1600 [==============================] - 0s 15us/step - loss: 0.1158 - val_loss: 0.1061\n",
            "Epoch 23/100\n",
            "1600/1600 [==============================] - 0s 14us/step - loss: 0.1149 - val_loss: 0.1054\n",
            "Epoch 24/100\n",
            "1600/1600 [==============================] - 0s 14us/step - loss: 0.1141 - val_loss: 0.1055\n",
            "Epoch 25/100\n",
            "1600/1600 [==============================] - 0s 17us/step - loss: 0.1153 - val_loss: 0.1053\n",
            "Epoch 26/100\n",
            "1600/1600 [==============================] - 0s 15us/step - loss: 0.1157 - val_loss: 0.1052\n",
            "Epoch 27/100\n",
            "1600/1600 [==============================] - 0s 15us/step - loss: 0.1146 - val_loss: 0.1049\n",
            "Epoch 28/100\n",
            "1600/1600 [==============================] - 0s 16us/step - loss: 0.1150 - val_loss: 0.1044\n",
            "Epoch 29/100\n",
            "1600/1600 [==============================] - 0s 25us/step - loss: 0.1152 - val_loss: 0.1052\n",
            "Epoch 30/100\n",
            "1600/1600 [==============================] - 0s 27us/step - loss: 0.1152 - val_loss: 0.1040\n",
            "Epoch 31/100\n",
            "1600/1600 [==============================] - 0s 24us/step - loss: 0.1138 - val_loss: 0.1040\n",
            "Epoch 32/100\n",
            "1600/1600 [==============================] - 0s 19us/step - loss: 0.1147 - val_loss: 0.1038\n",
            "Epoch 33/100\n",
            "1600/1600 [==============================] - 0s 18us/step - loss: 0.1163 - val_loss: 0.1043\n",
            "Epoch 34/100\n",
            "1600/1600 [==============================] - 0s 15us/step - loss: 0.1150 - val_loss: 0.1033\n",
            "Epoch 35/100\n",
            "1600/1600 [==============================] - 0s 16us/step - loss: 0.1153 - val_loss: 0.1031\n",
            "Epoch 36/100\n",
            "1600/1600 [==============================] - 0s 17us/step - loss: 0.1144 - val_loss: 0.1028\n",
            "Epoch 37/100\n",
            "1600/1600 [==============================] - 0s 16us/step - loss: 0.1149 - val_loss: 0.1032\n",
            "Epoch 38/100\n",
            "1600/1600 [==============================] - 0s 15us/step - loss: 0.1148 - val_loss: 0.1029\n",
            "Epoch 39/100\n",
            "1600/1600 [==============================] - 0s 18us/step - loss: 0.1156 - val_loss: 0.1032\n",
            "Epoch 40/100\n",
            "1600/1600 [==============================] - 0s 15us/step - loss: 0.1163 - val_loss: 0.1035\n",
            "Epoch 41/100\n",
            "1600/1600 [==============================] - 0s 18us/step - loss: 0.1150 - val_loss: 0.1027\n",
            "Epoch 42/100\n",
            "1600/1600 [==============================] - 0s 19us/step - loss: 0.1152 - val_loss: 0.1032\n",
            "Epoch 43/100\n",
            "1600/1600 [==============================] - 0s 18us/step - loss: 0.1156 - val_loss: 0.1024\n",
            "Epoch 44/100\n",
            "1600/1600 [==============================] - 0s 16us/step - loss: 0.1147 - val_loss: 0.1031\n",
            "Epoch 45/100\n",
            "1600/1600 [==============================] - 0s 21us/step - loss: 0.1161 - val_loss: 0.1024\n",
            "Epoch 46/100\n",
            "1600/1600 [==============================] - 0s 21us/step - loss: 0.1159 - val_loss: 0.1028\n",
            "Epoch 47/100\n",
            "1600/1600 [==============================] - 0s 18us/step - loss: 0.1163 - val_loss: 0.1024\n",
            "Epoch 48/100\n",
            "1600/1600 [==============================] - 0s 16us/step - loss: 0.1160 - val_loss: 0.1029\n",
            "Epoch 49/100\n",
            "1600/1600 [==============================] - 0s 17us/step - loss: 0.1166 - val_loss: 0.1022\n",
            "Epoch 50/100\n",
            "1600/1600 [==============================] - 0s 18us/step - loss: 0.1161 - val_loss: 0.1024\n",
            "Epoch 51/100\n",
            "1600/1600 [==============================] - 0s 16us/step - loss: 0.1162 - val_loss: 0.1024\n",
            "Epoch 52/100\n",
            "1600/1600 [==============================] - 0s 16us/step - loss: 0.1178 - val_loss: 0.1022\n",
            "Epoch 53/100\n",
            "1600/1600 [==============================] - 0s 19us/step - loss: 0.1199 - val_loss: 0.1024\n",
            "Epoch 54/100\n",
            "1600/1600 [==============================] - 0s 22us/step - loss: 0.1165 - val_loss: 0.1017\n",
            "Epoch 55/100\n",
            "1600/1600 [==============================] - 0s 22us/step - loss: 0.1168 - val_loss: 0.1019\n",
            "Epoch 56/100\n",
            "1600/1600 [==============================] - 0s 18us/step - loss: 0.1176 - val_loss: 0.1021\n",
            "Epoch 57/100\n",
            "1600/1600 [==============================] - 0s 15us/step - loss: 0.1175 - val_loss: 0.1024\n",
            "Epoch 58/100\n",
            "1600/1600 [==============================] - 0s 16us/step - loss: 0.1183 - val_loss: 0.1022\n",
            "Epoch 59/100\n",
            "1600/1600 [==============================] - 0s 18us/step - loss: 0.1186 - val_loss: 0.1018\n",
            "Epoch 60/100\n",
            "1600/1600 [==============================] - 0s 15us/step - loss: 0.1185 - val_loss: 0.1018\n",
            "Epoch 61/100\n",
            "1600/1600 [==============================] - 0s 16us/step - loss: 0.1178 - val_loss: 0.1020\n",
            "Epoch 62/100\n",
            "1600/1600 [==============================] - 0s 15us/step - loss: 0.1184 - val_loss: 0.1011\n",
            "Epoch 63/100\n",
            "1600/1600 [==============================] - 0s 16us/step - loss: 0.1186 - val_loss: 0.1014\n",
            "Epoch 64/100\n",
            "1600/1600 [==============================] - 0s 18us/step - loss: 0.1188 - val_loss: 0.1010\n",
            "Epoch 65/100\n",
            "1600/1600 [==============================] - 0s 18us/step - loss: 0.1185 - val_loss: 0.1013\n",
            "Epoch 66/100\n",
            "1600/1600 [==============================] - 0s 20us/step - loss: 0.1187 - val_loss: 0.1011\n",
            "Epoch 67/100\n",
            "1600/1600 [==============================] - 0s 22us/step - loss: 0.1193 - val_loss: 0.1009\n",
            "Epoch 68/100\n",
            "1600/1600 [==============================] - 0s 18us/step - loss: 0.1187 - val_loss: 0.1014\n",
            "Epoch 69/100\n",
            "1600/1600 [==============================] - 0s 17us/step - loss: 0.1195 - val_loss: 0.1013\n",
            "Epoch 70/100\n",
            "1600/1600 [==============================] - 0s 18us/step - loss: 0.1197 - val_loss: 0.1017\n",
            "Epoch 71/100\n",
            "1600/1600 [==============================] - 0s 18us/step - loss: 0.1202 - val_loss: 0.1006\n",
            "Epoch 72/100\n",
            "1600/1600 [==============================] - 0s 22us/step - loss: 0.1200 - val_loss: 0.1018\n",
            "Epoch 73/100\n",
            "1600/1600 [==============================] - 0s 20us/step - loss: 0.1205 - val_loss: 0.1017\n",
            "Epoch 74/100\n",
            "1600/1600 [==============================] - 0s 18us/step - loss: 0.1207 - val_loss: 0.1011\n",
            "Epoch 75/100\n",
            "1600/1600 [==============================] - 0s 19us/step - loss: 0.1203 - val_loss: 0.1009\n",
            "Epoch 76/100\n",
            "1600/1600 [==============================] - 0s 20us/step - loss: 0.1201 - val_loss: 0.1004\n",
            "Epoch 77/100\n",
            "1600/1600 [==============================] - 0s 21us/step - loss: 0.1201 - val_loss: 0.1006\n",
            "Epoch 78/100\n",
            "1600/1600 [==============================] - 0s 20us/step - loss: 0.1209 - val_loss: 0.1016\n",
            "Epoch 79/100\n",
            "1600/1600 [==============================] - 0s 23us/step - loss: 0.1219 - val_loss: 0.1013\n",
            "Epoch 80/100\n",
            "1600/1600 [==============================] - 0s 20us/step - loss: 0.1217 - val_loss: 0.1006\n",
            "Epoch 81/100\n",
            "1600/1600 [==============================] - 0s 18us/step - loss: 0.1212 - val_loss: 0.1014\n",
            "Epoch 82/100\n",
            "1600/1600 [==============================] - 0s 20us/step - loss: 0.1215 - val_loss: 0.1016\n",
            "Epoch 83/100\n",
            "1600/1600 [==============================] - 0s 21us/step - loss: 0.1218 - val_loss: 0.1010\n",
            "Epoch 84/100\n",
            "1600/1600 [==============================] - 0s 29us/step - loss: 0.1217 - val_loss: 0.1013\n",
            "Epoch 85/100\n",
            "1600/1600 [==============================] - 0s 17us/step - loss: 0.1220 - val_loss: 0.1008\n",
            "Epoch 86/100\n",
            "1600/1600 [==============================] - 0s 26us/step - loss: 0.1216 - val_loss: 0.1004\n",
            "Epoch 87/100\n",
            "1600/1600 [==============================] - 0s 18us/step - loss: 0.1217 - val_loss: 0.1009\n",
            "Epoch 88/100\n",
            "1600/1600 [==============================] - 0s 20us/step - loss: 0.1221 - val_loss: 0.1001\n",
            "Epoch 89/100\n",
            "1600/1600 [==============================] - 0s 19us/step - loss: 0.1218 - val_loss: 0.1005\n",
            "Epoch 90/100\n",
            "1600/1600 [==============================] - 0s 20us/step - loss: 0.1223 - val_loss: 0.1002\n",
            "Epoch 91/100\n",
            "1600/1600 [==============================] - 0s 19us/step - loss: 0.1223 - val_loss: 0.1007\n",
            "Epoch 92/100\n",
            "1600/1600 [==============================] - 0s 17us/step - loss: 0.1231 - val_loss: 0.0997\n",
            "Epoch 93/100\n",
            "1600/1600 [==============================] - 0s 21us/step - loss: 0.1225 - val_loss: 0.1004\n",
            "Epoch 94/100\n",
            "1600/1600 [==============================] - 0s 24us/step - loss: 0.1228 - val_loss: 0.1000\n",
            "Epoch 95/100\n",
            "1600/1600 [==============================] - 0s 25us/step - loss: 0.1229 - val_loss: 0.1000\n",
            "Epoch 96/100\n",
            "1600/1600 [==============================] - 0s 17us/step - loss: 0.1229 - val_loss: 0.0999\n",
            "Epoch 97/100\n",
            "1600/1600 [==============================] - 0s 19us/step - loss: 0.1231 - val_loss: 0.1010\n",
            "Epoch 98/100\n",
            "1600/1600 [==============================] - 0s 19us/step - loss: 0.1238 - val_loss: 0.0999\n",
            "Epoch 99/100\n",
            "1600/1600 [==============================] - 0s 20us/step - loss: 0.1233 - val_loss: 0.0998\n",
            "Epoch 100/100\n",
            "1600/1600 [==============================] - 0s 19us/step - loss: 0.1236 - val_loss: 0.1001\n"
          ],
          "name": "stdout"
        }
      ]
    },
    {
      "cell_type": "markdown",
      "metadata": {
        "id": "1HBrGFrrKHRX",
        "colab_type": "text"
      },
      "source": [
        "## Extract the latent representations\n",
        "Extract the latent representations of the input learned by the model. \n",
        "Create another network and add the first three layers with trained weights. The output is the representations. "
      ]
    },
    {
      "cell_type": "code",
      "metadata": {
        "id": "WNwhbX8cFils",
        "colab_type": "code",
        "colab": {}
      },
      "source": [
        "hidden_representation = Sequential()\n",
        "hidden_representation.add(autoencoder.layers[0])\n",
        "hidden_representation.add(autoencoder.layers[1])\n",
        "hidden_representation.add(autoencoder.layers[2])"
      ],
      "execution_count": 0,
      "outputs": []
    },
    {
      "cell_type": "code",
      "metadata": {
        "id": "8xYsy1yjFpVa",
        "colab_type": "code",
        "colab": {
          "base_uri": "https://localhost:8080/",
          "height": 34
        },
        "outputId": "e69b12e7-aca1-4784-df65-0ebfae694fc5"
      },
      "source": [
        "norm_hid_rep = hidden_representation.predict(x_norm[:15000])\n",
        "fraud_hid_rep = hidden_representation.predict(x_fraud)\n",
        "print(norm_hid_rep.shape)"
      ],
      "execution_count": 25,
      "outputs": [
        {
          "output_type": "stream",
          "text": [
            "(15000, 50)\n"
          ],
          "name": "stdout"
        }
      ]
    },
    {
      "cell_type": "code",
      "metadata": {
        "id": "AXeIU9aCF5qD",
        "colab_type": "code",
        "colab": {
          "base_uri": "https://localhost:8080/",
          "height": 34
        },
        "outputId": "6829cba8-3a46-46ef-ab33-9d1a9847e092"
      },
      "source": [
        "rep_x = np.append(norm_hid_rep, fraud_hid_rep, axis = 0)\n",
        "y_n = np.zeros(norm_hid_rep.shape[0])\n",
        "y_f = np.ones(fraud_hid_rep.shape[0])\n",
        "rep_y = np.append(y_n, y_f)\n",
        "print(rep_x.shape)"
      ],
      "execution_count": 26,
      "outputs": [
        {
          "output_type": "stream",
          "text": [
            "(15492, 50)\n"
          ],
          "name": "stdout"
        }
      ]
    },
    {
      "cell_type": "markdown",
      "metadata": {
        "id": "RlxwNENIU3vQ",
        "colab_type": "text"
      },
      "source": [
        "##Visualization of the latent representations of fraud and non-fraud transactions"
      ]
    },
    {
      "cell_type": "code",
      "metadata": {
        "id": "7E5ziRzmF-rK",
        "colab_type": "code",
        "colab": {
          "base_uri": "https://localhost:8080/",
          "height": 491
        },
        "outputId": "1575ccf5-6e43-4a76-c376-8ff6b2f2972e"
      },
      "source": [
        "def tsne_plot(X, Y):\n",
        "    tsne = TSNE(n_components=2, random_state=0)\n",
        "    X_t = tsne.fit_transform(X)\n",
        "\n",
        "    plt.figure(figsize=(12, 8))\n",
        "    plt.scatter(X_t[np.where(Y == 0), 0], X_t[np.where(Y == 0), 1], marker='o', color='c', label='Non Fraud')\n",
        "    plt.scatter(X_t[np.where(Y == 1), 0], X_t[np.where(Y == 1), 1], marker='o', color='r', label='Fraud')\n",
        "\n",
        "    plt.legend(loc='best')\n",
        "    plt.show()\n",
        "    \n",
        "tsne_plot(rep_x, rep_y)"
      ],
      "execution_count": 27,
      "outputs": [
        {
          "output_type": "display_data",
          "data": {
            "image/png": "[encoded data removed]",
            "text/plain": [
              "<Figure size 864x576 with 1 Axes>"
            ]
          },
          "metadata": {
            "tags": []
          }
        }
      ]
    },
    {
      "cell_type": "markdown",
      "metadata": {
        "id": "DiSjqa8rVonF",
        "colab_type": "text"
      },
      "source": [
        "From the figure above, we can see that the fraud and non-fraud classes are more linearly separable."
      ]
    },
    {
      "cell_type": "markdown",
      "metadata": {
        "id": "gynYowEQHRQp",
        "colab_type": "text"
      },
      "source": [
        "## Logistic regression model for fraud transaction classification"
      ]
    },
    {
      "cell_type": "code",
      "metadata": {
        "id": "1e0iozOGHQpA",
        "colab_type": "code",
        "colab": {
          "base_uri": "https://localhost:8080/",
          "height": 235
        },
        "outputId": "d4aa1947-36ea-4ed1-a705-31ce1288626a"
      },
      "source": [
        "train_x, val_x, train_y, val_y = train_test_split(rep_x, rep_y, test_size=0.25)\n",
        "clf = LogisticRegression(solver=\"lbfgs\").fit(train_x, train_y)\n",
        "pred_y = clf.predict(val_x)\n",
        "\n",
        "print (\"\")\n",
        "print (\"Classification Report: \")\n",
        "print (classification_report(val_y, pred_y))\n",
        "\n",
        "print (\"\")\n",
        "print (\"Accuracy Score: \", accuracy_score(val_y, pred_y))"
      ],
      "execution_count": 28,
      "outputs": [
        {
          "output_type": "stream",
          "text": [
            "\n",
            "Classification Report: \n",
            "              precision    recall  f1-score   support\n",
            "\n",
            "         0.0       0.99      1.00      1.00      3748\n",
            "         1.0       0.94      0.82      0.88       125\n",
            "\n",
            "    accuracy                           0.99      3873\n",
            "   macro avg       0.97      0.91      0.94      3873\n",
            "weighted avg       0.99      0.99      0.99      3873\n",
            "\n",
            "\n",
            "Accuracy Score:  0.9925122643945262\n"
          ],
          "name": "stdout"
        }
      ]
    }
  ]
}